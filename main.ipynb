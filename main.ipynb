{
 "cells": [
  {
   "cell_type": "markdown",
   "metadata": {},
   "source": [
    "**IMPORT DAS DEPENDÊNCIAS**"
   ]
  },
  {
   "cell_type": "code",
   "execution_count": 45,
   "metadata": {},
   "outputs": [],
   "source": [
    "import pandas as p\n",
    "import numpy as np"
   ]
  },
  {
   "cell_type": "markdown",
   "metadata": {},
   "source": [
    "**LEITURA DO DATASET**"
   ]
  },
  {
   "cell_type": "code",
   "execution_count": 144,
   "metadata": {},
   "outputs": [],
   "source": [
    "df = p.read_csv('./imdb-score.csv')"
   ]
  },
  {
   "cell_type": "markdown",
   "metadata": {},
   "source": [
    "**TRATAMENTO DOS DADOS**"
   ]
  },
  {
   "cell_type": "code",
   "execution_count": 146,
   "metadata": {},
   "outputs": [],
   "source": [
    "df.columns = df.columns.str.strip()\n",
    "df.columns = df.columns.str.replace(' ', '_')\n",
    "\n",
    "df['nome_filme'] = df['Movie_Name']\n",
    "df['tempo'] = df['Watch_Time'].str.replace(' min', '').astype(int)\n",
    "df['nota'] = df['Movie_Rating'].astype(float)\n",
    "df['votos'] = df['Votes'].str.replace(',', '').astype(int)\n",
    "df['ano_lancamento'] = df['Year_of_Release'].str.replace(r'[^\\d]', '', regex=True).astype(int)\n",
    "df['outra_nota'] = p.to_numeric(df['Meatscore_of_movie'], errors='coerce')\n",
    "def convert_gross(value):\n",
    "    if 'M' in value:\n",
    "        return float(value.replace('$', '').replace('M', '')) * 1e6\n",
    "    else:\n",
    "        return np.nan\n",
    "df['custo'] = df['Gross'].apply(convert_gross)"
   ]
  },
  {
   "cell_type": "markdown",
   "metadata": {},
   "source": [
    "**DEFINIÇÃO DA IMPORTÂNCIA DE CADA VARIÁVEL EM PORCENTAGEM**"
   ]
  },
  {
   "cell_type": "code",
   "execution_count": 147,
   "metadata": {},
   "outputs": [],
   "source": [
    "importancia_ano_lancamento = int(10)\n",
    "importancia_tempo = int(16)\n",
    "importancia_nota = int(70)\n",
    "importancia_custo = int(4)"
   ]
  },
  {
   "cell_type": "markdown",
   "metadata": {},
   "source": [
    "**VARIÁVEIS ESCOLHIDAS PELO USUÁRIO**"
   ]
  },
  {
   "cell_type": "code",
   "execution_count": 148,
   "metadata": {},
   "outputs": [],
   "source": [
    "opcao_ano_lancamento = int(2000)\n",
    "opcao_tempo = float(140)\n",
    "opcao_nota = float(9.0)\n",
    "opcao_custo = float(10000000)"
   ]
  },
  {
   "cell_type": "markdown",
   "metadata": {},
   "source": [
    "**VARIÁVEL QUE ARMAZENARÁ OS RESULTADOS**"
   ]
  },
  {
   "cell_type": "code",
   "execution_count": 160,
   "metadata": {},
   "outputs": [],
   "source": [
    "resposta = {}"
   ]
  },
  {
   "cell_type": "markdown",
   "metadata": {},
   "source": [
    "**VERIFICA A IGUALDADE DO ANO DE LANÇAMENTO**"
   ]
  },
  {
   "cell_type": "code",
   "execution_count": 161,
   "metadata": {},
   "outputs": [],
   "source": [
    "for y, x in enumerate(df['ano_lancamento']):\n",
    "    resposta[df['nome_filme'][y]] = int(0)\n",
    "    ano_lancamento = int(x)\n",
    "    if ano_lancamento == opcao_ano_lancamento:\n",
    "        resposta[df['nome_filme'][y]] = importancia_ano_lancamento"
   ]
  },
  {
   "cell_type": "markdown",
   "metadata": {},
   "source": [
    "**VERIFICA SE A NOTA É MAIOR OU IGUAL**"
   ]
  },
  {
   "cell_type": "code",
   "execution_count": 162,
   "metadata": {},
   "outputs": [],
   "source": [
    "for y, x in enumerate(df['nota']):\n",
    "    nota = float(x)\n",
    "    if nota >= opcao_nota:\n",
    "        resposta[df['nome_filme'][y]] += importancia_nota"
   ]
  },
  {
   "cell_type": "markdown",
   "metadata": {},
   "source": [
    "**VERIFICA SE O CUSTO É MAIOR OU IGUAL**"
   ]
  },
  {
   "cell_type": "code",
   "execution_count": 163,
   "metadata": {},
   "outputs": [],
   "source": [
    "for y, x in enumerate(df['custo']):\n",
    "    custo = float(x)\n",
    "    if custo >= opcao_custo:\n",
    "        resposta[df['nome_filme'][y]] += importancia_custo"
   ]
  },
  {
   "cell_type": "markdown",
   "metadata": {},
   "source": [
    "**VERIFICA SE O TEMPO DO FILME É MAIOR OU IGUAL**"
   ]
  },
  {
   "cell_type": "code",
   "execution_count": 164,
   "metadata": {},
   "outputs": [],
   "source": [
    "for y, x in enumerate(df['tempo']):\n",
    "    tempo = float(x)\n",
    "    if tempo <= opcao_tempo:\n",
    "        resposta[df['nome_filme'][y]] += importancia_tempo"
   ]
  },
  {
   "cell_type": "markdown",
   "metadata": {},
   "source": [
    "**ORDENA OS FILMES E APRESENTA OS 5 MELHORES CLASSIFICADOS**"
   ]
  },
  {
   "cell_type": "code",
   "execution_count": 166,
   "metadata": {},
   "outputs": [
    {
     "name": "stdout",
     "output_type": "stream",
     "text": [
      "12 Angry Men: 86%\n",
      "The Shawshank Redemption: 74%\n",
      "The Godfather: 74%\n",
      "The Dark Knight: 74%\n",
      "The Lord of the Rings: The Return of the King: 74%\n"
     ]
    }
   ],
   "source": [
    "filmes_ordenados = sorted(resposta.items(), key=lambda x: x[1], reverse=True)\n",
    "filmes_ordenados = filmes_ordenados[:5]\n",
    "\n",
    "for filme, classificacao in filmes_ordenados:\n",
    "    print(f'{filme}: {classificacao}%')"
   ]
  }
 ],
 "metadata": {
  "kernelspec": {
   "display_name": "Python 3",
   "language": "python",
   "name": "python3"
  },
  "language_info": {
   "codemirror_mode": {
    "name": "ipython",
    "version": 3
   },
   "file_extension": ".py",
   "mimetype": "text/x-python",
   "name": "python",
   "nbconvert_exporter": "python",
   "pygments_lexer": "ipython3",
   "version": "3.10.11"
  },
  "orig_nbformat": 4
 },
 "nbformat": 4,
 "nbformat_minor": 2
}
